{
  "nbformat": 4,
  "nbformat_minor": 0,
  "metadata": {
    "colab": {
      "provenance": [],
      "toc_visible": true,
      "authorship_tag": "ABX9TyNRvCzydNKN1BXZ5cmrHy2b"
    },
    "kernelspec": {
      "name": "python3",
      "display_name": "Python 3"
    },
    "language_info": {
      "name": "python"
    }
  },
  "cells": [
    {
      "cell_type": "code",
      "execution_count": null,
      "metadata": {
        "id": "ujOrFqlWuJ_M"
      },
      "outputs": [],
      "source": [
        "\"\"\"\n",
        "@Description :   this script can output *.sdf and *.config for Gazebo with taking a mesh as input\n",
        "@Author      :   Yan Ding \n",
        "@Time        :   2022/12/29 00:46:17\n",
        "\"\"\""
      ]
    },
    {
      "cell_type": "markdown",
      "source": [
        "# Import third-party packages"
      ],
      "metadata": {
        "id": "axfFSqbUudcq"
      }
    },
    {
      "cell_type": "code",
      "source": [
        "import os, sys\n",
        "import shutil\n",
        "import xml.etree.ElementTree as ET\n",
        "from google.colab import files\n",
        "import time"
      ],
      "metadata": {
        "id": "Wzf_bmtQuTMj"
      },
      "execution_count": null,
      "outputs": []
    },
    {
      "cell_type": "markdown",
      "source": [
        "# Utils"
      ],
      "metadata": {
        "id": "QQ5o-ECXEmSR"
      }
    },
    {
      "cell_type": "code",
      "source": [
        "def write(content=None, path=None):\n",
        "  from google.colab import files\n",
        "  with open(path, 'w') as f:\n",
        "    f.write('{}'.format(content))\n",
        "  # files.download(path)"
      ],
      "metadata": {
        "id": "CNX1HGz8Eoj2"
      },
      "execution_count": null,
      "outputs": []
    },
    {
      "cell_type": "markdown",
      "source": [
        "# Process mesh files"
      ],
      "metadata": {
        "id": "UPSp38WzBD1i"
      }
    },
    {
      "cell_type": "code",
      "source": [
        "#@title Compute inertia matrix using online tool  {display-mode: \"form\", vertical-output: true }\n",
        "\n",
        "#@markdown <p float=\"left\"> <img src=\"https://raw.githubusercontent.com/yding25/pic_share/master/mesh_cleaner.png\" height=\"200\" /> </p>\n",
        "\n",
        "#@markdown [Website Link](https://www.hamzamerzic.info/mesh_cleaner/)\n",
        "\n",
        "#@markdown - Step 1: Upload raw mesh file\n",
        "#@markdown - Step 2: Download processed mesh file\n",
        "#@markdown - Step 3: Copy inertia matrix"
      ],
      "metadata": {
        "id": "S9bchB6Y4pyv"
      },
      "execution_count": null,
      "outputs": []
    },
    {
      "cell_type": "code",
      "source": [
        "#@title Upload processed mesh file (only supports *.dae and *.obj)  {display-mode: \"form\", vertical-output: true }\n",
        "uploaded = files.upload()\n",
        "file_name = []\n",
        "for item in uploaded.keys():\n",
        "  print('User uploaded file \"{}\" with length {} bytes'.format(item, len(uploaded[item])))\n",
        "  if 'mtl' not in item:\n",
        "    file_name.append(item)\n",
        "\n",
        "# Check the uploaded file\n",
        "signal = False\n",
        "for item in file_name:\n",
        "  if '.dae' in item or '.obj' in item:\n",
        "    signal = True\n",
        "if not signal:\n",
        "  print('Error: cannot find mesh file!')\n",
        "  sys.exit(1)\n",
        "else:\n",
        "  pass"
      ],
      "metadata": {
        "id": "SbYPT0ZixGTQ",
        "colab": {
          "base_uri": "https://localhost:8080/",
          "height": 90
        },
        "outputId": "10ffa2a4-2730-4672-dbbe-6de21438d29a"
      },
      "execution_count": null,
      "outputs": [
        {
          "output_type": "display_data",
          "data": {
            "text/plain": [
              "<IPython.core.display.HTML object>"
            ],
            "text/html": [
              "\n",
              "     <input type=\"file\" id=\"files-3f2e5301-0071-4a87-8a41-f4993f0ede86\" name=\"files[]\" multiple disabled\n",
              "        style=\"border:none\" />\n",
              "     <output id=\"result-3f2e5301-0071-4a87-8a41-f4993f0ede86\">\n",
              "      Upload widget is only available when the cell has been executed in the\n",
              "      current browser session. Please rerun this cell to enable.\n",
              "      </output>\n",
              "      <script>// Copyright 2017 Google LLC\n",
              "//\n",
              "// Licensed under the Apache License, Version 2.0 (the \"License\");\n",
              "// you may not use this file except in compliance with the License.\n",
              "// You may obtain a copy of the License at\n",
              "//\n",
              "//      http://www.apache.org/licenses/LICENSE-2.0\n",
              "//\n",
              "// Unless required by applicable law or agreed to in writing, software\n",
              "// distributed under the License is distributed on an \"AS IS\" BASIS,\n",
              "// WITHOUT WARRANTIES OR CONDITIONS OF ANY KIND, either express or implied.\n",
              "// See the License for the specific language governing permissions and\n",
              "// limitations under the License.\n",
              "\n",
              "/**\n",
              " * @fileoverview Helpers for google.colab Python module.\n",
              " */\n",
              "(function(scope) {\n",
              "function span(text, styleAttributes = {}) {\n",
              "  const element = document.createElement('span');\n",
              "  element.textContent = text;\n",
              "  for (const key of Object.keys(styleAttributes)) {\n",
              "    element.style[key] = styleAttributes[key];\n",
              "  }\n",
              "  return element;\n",
              "}\n",
              "\n",
              "// Max number of bytes which will be uploaded at a time.\n",
              "const MAX_PAYLOAD_SIZE = 100 * 1024;\n",
              "\n",
              "function _uploadFiles(inputId, outputId) {\n",
              "  const steps = uploadFilesStep(inputId, outputId);\n",
              "  const outputElement = document.getElementById(outputId);\n",
              "  // Cache steps on the outputElement to make it available for the next call\n",
              "  // to uploadFilesContinue from Python.\n",
              "  outputElement.steps = steps;\n",
              "\n",
              "  return _uploadFilesContinue(outputId);\n",
              "}\n",
              "\n",
              "// This is roughly an async generator (not supported in the browser yet),\n",
              "// where there are multiple asynchronous steps and the Python side is going\n",
              "// to poll for completion of each step.\n",
              "// This uses a Promise to block the python side on completion of each step,\n",
              "// then passes the result of the previous step as the input to the next step.\n",
              "function _uploadFilesContinue(outputId) {\n",
              "  const outputElement = document.getElementById(outputId);\n",
              "  const steps = outputElement.steps;\n",
              "\n",
              "  const next = steps.next(outputElement.lastPromiseValue);\n",
              "  return Promise.resolve(next.value.promise).then((value) => {\n",
              "    // Cache the last promise value to make it available to the next\n",
              "    // step of the generator.\n",
              "    outputElement.lastPromiseValue = value;\n",
              "    return next.value.response;\n",
              "  });\n",
              "}\n",
              "\n",
              "/**\n",
              " * Generator function which is called between each async step of the upload\n",
              " * process.\n",
              " * @param {string} inputId Element ID of the input file picker element.\n",
              " * @param {string} outputId Element ID of the output display.\n",
              " * @return {!Iterable<!Object>} Iterable of next steps.\n",
              " */\n",
              "function* uploadFilesStep(inputId, outputId) {\n",
              "  const inputElement = document.getElementById(inputId);\n",
              "  inputElement.disabled = false;\n",
              "\n",
              "  const outputElement = document.getElementById(outputId);\n",
              "  outputElement.innerHTML = '';\n",
              "\n",
              "  const pickedPromise = new Promise((resolve) => {\n",
              "    inputElement.addEventListener('change', (e) => {\n",
              "      resolve(e.target.files);\n",
              "    });\n",
              "  });\n",
              "\n",
              "  const cancel = document.createElement('button');\n",
              "  inputElement.parentElement.appendChild(cancel);\n",
              "  cancel.textContent = 'Cancel upload';\n",
              "  const cancelPromise = new Promise((resolve) => {\n",
              "    cancel.onclick = () => {\n",
              "      resolve(null);\n",
              "    };\n",
              "  });\n",
              "\n",
              "  // Wait for the user to pick the files.\n",
              "  const files = yield {\n",
              "    promise: Promise.race([pickedPromise, cancelPromise]),\n",
              "    response: {\n",
              "      action: 'starting',\n",
              "    }\n",
              "  };\n",
              "\n",
              "  cancel.remove();\n",
              "\n",
              "  // Disable the input element since further picks are not allowed.\n",
              "  inputElement.disabled = true;\n",
              "\n",
              "  if (!files) {\n",
              "    return {\n",
              "      response: {\n",
              "        action: 'complete',\n",
              "      }\n",
              "    };\n",
              "  }\n",
              "\n",
              "  for (const file of files) {\n",
              "    const li = document.createElement('li');\n",
              "    li.append(span(file.name, {fontWeight: 'bold'}));\n",
              "    li.append(span(\n",
              "        `(${file.type || 'n/a'}) - ${file.size} bytes, ` +\n",
              "        `last modified: ${\n",
              "            file.lastModifiedDate ? file.lastModifiedDate.toLocaleDateString() :\n",
              "                                    'n/a'} - `));\n",
              "    const percent = span('0% done');\n",
              "    li.appendChild(percent);\n",
              "\n",
              "    outputElement.appendChild(li);\n",
              "\n",
              "    const fileDataPromise = new Promise((resolve) => {\n",
              "      const reader = new FileReader();\n",
              "      reader.onload = (e) => {\n",
              "        resolve(e.target.result);\n",
              "      };\n",
              "      reader.readAsArrayBuffer(file);\n",
              "    });\n",
              "    // Wait for the data to be ready.\n",
              "    let fileData = yield {\n",
              "      promise: fileDataPromise,\n",
              "      response: {\n",
              "        action: 'continue',\n",
              "      }\n",
              "    };\n",
              "\n",
              "    // Use a chunked sending to avoid message size limits. See b/62115660.\n",
              "    let position = 0;\n",
              "    do {\n",
              "      const length = Math.min(fileData.byteLength - position, MAX_PAYLOAD_SIZE);\n",
              "      const chunk = new Uint8Array(fileData, position, length);\n",
              "      position += length;\n",
              "\n",
              "      const base64 = btoa(String.fromCharCode.apply(null, chunk));\n",
              "      yield {\n",
              "        response: {\n",
              "          action: 'append',\n",
              "          file: file.name,\n",
              "          data: base64,\n",
              "        },\n",
              "      };\n",
              "\n",
              "      let percentDone = fileData.byteLength === 0 ?\n",
              "          100 :\n",
              "          Math.round((position / fileData.byteLength) * 100);\n",
              "      percent.textContent = `${percentDone}% done`;\n",
              "\n",
              "    } while (position < fileData.byteLength);\n",
              "  }\n",
              "\n",
              "  // All done.\n",
              "  yield {\n",
              "    response: {\n",
              "      action: 'complete',\n",
              "    }\n",
              "  };\n",
              "}\n",
              "\n",
              "scope.google = scope.google || {};\n",
              "scope.google.colab = scope.google.colab || {};\n",
              "scope.google.colab._files = {\n",
              "  _uploadFiles,\n",
              "  _uploadFilesContinue,\n",
              "};\n",
              "})(self);\n",
              "</script> "
            ]
          },
          "metadata": {}
        },
        {
          "output_type": "stream",
          "name": "stdout",
          "text": [
            "Saving box_green.dae to box_green.dae\n",
            "User uploaded file \"box_green.dae\" with length 8096 bytes\n"
          ]
        }
      ]
    },
    {
      "cell_type": "code",
      "source": [
        "#@title Upload computed inertia matrix  {display-mode: \"form\", vertical-output: true }\n",
        "#@markdown Please copy inertia matrix and paste it here directly\n",
        "inertia_matrix = \"\\u003Cinertial>   \\u003C!-- Volume:  1.2500000000e-04 -->   \\u003Cmass> 0.1 \\u003C/mass>    \\u003C!-- Center of mass:  0.0000000000e+00  0.0000000000e+00  0.0000000000e+00 -->   \\u003Cpose>  0.0000000000e+00  0.0000000000e+00  0.0000000000e+00 0 0 0 \\u003C/pose>    \\u003C!-- Inertia matrix -->   \\u003Cinertia>     \\u003Cixx>  4.1666665040e-05 \\u003C/ixx>     \\u003Cixy>  0.0000000000e+00 \\u003C/ixy>     \\u003Cixz>  0.0000000000e+00 \\u003C/ixz>     \\u003Ciyy>  4.1666665040e-05 \\u003C/iyy>     \\u003Ciyz>  0.0000000000e+00 \\u003C/iyz>     \\u003Cizz>  4.1666665040e-05 \\u003C/izz>   \\u003C/inertia> \\u003C/inertial>\" #@param {type:\"string\"}\n",
        "\n",
        "write(inertia_matrix, 'inertia_matrix.xml')\n",
        "inertia_tree = ET.parse('inertia_matrix.xml')\n",
        "inertia_tree_root = inertia_tree.getroot()\n",
        "pose = None\n",
        "mass = None\n",
        "ixx = None\n",
        "ixy = None\n",
        "ixz = None\n",
        "iyy = None\n",
        "iyz = None\n",
        "izz = None\n",
        "for item in inertia_tree_root.iter():\n",
        "    if item.tag == 'pose':\n",
        "        pose = item.text\n",
        "    if item.tag == 'mass':\n",
        "        mass = item.text\n",
        "    if item.tag == 'ixx':\n",
        "        ixx = item.text\n",
        "    if item.tag == 'ixy':\n",
        "        ixy = item.text\n",
        "    if item.tag == 'ixz':\n",
        "        ixz = item.text\n",
        "    if item.tag == 'iyy':\n",
        "        iyy = item.text\n",
        "    if item.tag == 'iyz':\n",
        "        iyz = item.text\n",
        "    if item.tag == 'izz':\n",
        "        izz = item.text\n",
        "print('After parsing input inertia matrix:\\n')\n",
        "print(' pose = {}\\n mass = {}\\n ixx = {}\\n ixy = {}\\n ixz = {}\\n iyy = {}\\n iyz = {}\\n izz = {}'.format(pose, mass, ixx, ixy, ixz, iyy, iyz, izz))"
      ],
      "metadata": {
        "colab": {
          "base_uri": "https://localhost:8080/"
        },
        "id": "h2Mb-GAkB9HM",
        "outputId": "f0ff8ea5-524a-4f46-c40d-73e99948a931"
      },
      "execution_count": null,
      "outputs": [
        {
          "output_type": "stream",
          "name": "stdout",
          "text": [
            "After parsing input inertia matrix:\n",
            "\n",
            " pose =   0.0000000000e+00  0.0000000000e+00  0.0000000000e+00 0 0 0 \n",
            " mass =  0.1 \n",
            " ixx =   4.1666665040e-05 \n",
            " ixy =   0.0000000000e+00 \n",
            " ixz =   0.0000000000e+00 \n",
            " iyy =   4.1666665040e-05 \n",
            " iyz =   0.0000000000e+00 \n",
            " izz =   4.1666665040e-05 \n"
          ]
        }
      ]
    },
    {
      "cell_type": "code",
      "source": [
        "#@title Create output folder  {display-mode: \"form\", vertical-output: true }\n",
        "#@markdown Please input your customized gazebo model name, e.g., box_blue\n",
        "model_name = \"box_green\" #@param {type:\"string\"}\n",
        "if not os.path.exists(model_name):\n",
        "  os.mkdir(model_name)\n",
        "  print('the \\'{}\\' folder has been created'.format(model_name))\n",
        "else:\n",
        "  print('the \\'{}\\' folder already exists'.format(model_name))  \n",
        "\n",
        "if not os.path.exists(os.path.join(model_name, 'meshes')):\n",
        "  os.mkdir(os.path.join(model_name, 'meshes'))\n",
        "  print('the \\'{}\\' folder has been created'.format(os.path.join(model_name, 'meshes')))\n",
        "else:\n",
        "  print('the \\'{}\\' folder already exists'.format(os.path.join(model_name, 'meshes')))"
      ],
      "metadata": {
        "id": "GrqEmNQsw_uu",
        "colab": {
          "base_uri": "https://localhost:8080/"
        },
        "outputId": "d7e3bced-c4e9-4ffb-dd0e-4a175cdbe225"
      },
      "execution_count": null,
      "outputs": [
        {
          "output_type": "stream",
          "name": "stdout",
          "text": [
            "the 'box_green' folder has been created\n",
            "the 'box_green/meshes' folder has been created\n"
          ]
        }
      ]
    },
    {
      "cell_type": "code",
      "source": [
        "#@title Download sample *sdf and *config  {display-mode: \"form\", vertical-output: true }\n",
        "if not os.path.exists('model.config') or not os.path.exists('model.sdf'):\n",
        "  !gdown 1c59M5cvqd_8d-TuV6hSFkgQrFN1Tfgcj\n",
        "  !gdown 1ZVPt3v06Beetk_lMuPHgfrr6IQp4aIN-\n",
        "else:\n",
        "  pass"
      ],
      "metadata": {
        "id": "nfwVvTmRuhuO"
      },
      "execution_count": null,
      "outputs": []
    },
    {
      "cell_type": "code",
      "source": [
        "#@title Modify sample *config  {display-mode: \"form\", vertical-output: true }\n",
        "config_tree = ET.parse('model.config')\n",
        "config_tree_root = config_tree.getroot()\n",
        "signal = False # differentiate two \"name\" in model.config\n",
        "for item in config_tree_root.iter():\n",
        "    # print(item)\n",
        "    if(item.tag == 'name' and not signal):\n",
        "        signal = True\n",
        "        item.text = model_name\n",
        "    if(item.tag == 'description'):\n",
        "        item.text = 'a model of ' + model_name\n",
        "print('model.config has been modified successfully.')"
      ],
      "metadata": {
        "id": "zSpWLm2J2hnZ",
        "colab": {
          "base_uri": "https://localhost:8080/"
        },
        "outputId": "a3fd0aeb-1f9f-475d-8320-4e8dd0969628"
      },
      "execution_count": null,
      "outputs": [
        {
          "output_type": "stream",
          "name": "stdout",
          "text": [
            "model.config has been modified successfully.\n"
          ]
        }
      ]
    },
    {
      "cell_type": "code",
      "source": [
        "#@title Modify sample *sdf {display-mode: \"form\", vertical-output: true }\n",
        "color = \"green\" #@param [\"red\", \"green\", \"blue\"]\n",
        "color_value = None\n",
        "if color == 'red':\n",
        "  color_value = '1 0 0'\n",
        "elif color == 'green':\n",
        "  color_value = '0 1 0'\n",
        "elif color == 'blue':\n",
        "  color_value = '0 0 1'\n",
        "else:\n",
        "  print('Error: cannot find the color')\n",
        "\n",
        "sdf_tree = ET.parse('model.sdf')\n",
        "sdf_tree_root = sdf_tree.getroot()\n",
        "for item in sdf_tree_root.iter():\n",
        "    if(item.tag == 'model'):\n",
        "        item.set('name', model_name)\n",
        "    if(item.tag == 'uri'):\n",
        "        item.text = 'model://' + model_name + '/meshes/' + file_name[0]\n",
        "    if(item.tag == 'pose'):\n",
        "        item.text = pose\n",
        "    if(item.tag == 'mass'):\n",
        "        item.text = mass\n",
        "    if(item.tag == 'ixx'):\n",
        "        item.text = ixx\n",
        "    if(item.tag == 'ixy'):\n",
        "        item.text = ixy\n",
        "    if(item.tag == 'ixz'):\n",
        "        item.text = ixz\n",
        "    if(item.tag == 'iyy'):\n",
        "        item.text = iyy\n",
        "    if(item.tag == 'iyz'):\n",
        "        item.text = iyz\n",
        "    if(item.tag == 'izz'):\n",
        "        item.text = izz\n",
        "    # set the model color\n",
        "    if(item.tag == 'ambient'):\n",
        "        item.text = color_value\n",
        "    if(item.tag == 'diffuse'):\n",
        "        item.text = color_value\n",
        "    if(item.tag == 'specular'):\n",
        "        item.text = color_value\n",
        "print('model.sdf has been modified successfully.')"
      ],
      "metadata": {
        "id": "-S7g1BX04HrC",
        "colab": {
          "base_uri": "https://localhost:8080/"
        },
        "outputId": "fd703910-81bd-4b76-f78d-16627a05bfbc"
      },
      "execution_count": null,
      "outputs": [
        {
          "output_type": "stream",
          "name": "stdout",
          "text": [
            "model.sdf has been modified successfully.\n"
          ]
        }
      ]
    },
    {
      "cell_type": "code",
      "source": [
        "#@title Write modified *config and *sdf {display-mode: \"form\", vertical-output: true }\n",
        "config_tree.write(os.path.join(model_name, 'model.config'))\n",
        "with open(os.path.join(model_name, 'model.config'), 'r+') as filein_config:\n",
        "  content = filein_config.read()\n",
        "  filein_config.seek(0, 0)\n",
        "  filein_config.write('<?xml version=\"1.0\" ?>\\n'+content)\n",
        "filein_config.close()\n",
        "print('model.config has been writen successfully.')\n",
        "\n",
        "sdf_tree.write(os.path.join(model_name, 'model.sdf'))\n",
        "with open(os.path.join(model_name, 'model.sdf'), 'r+') as filein_sdf:\n",
        "  content = filein_sdf.read()\n",
        "  filein_sdf.seek(0, 0)\n",
        "  filein_sdf.write('<?xml version=\"1.0\" ?>\\n'+content)\n",
        "filein_sdf.close()\n",
        "print('model.sdf has been writen successfully.')\n",
        "\n",
        "for item in file_name:\n",
        "  shutil.copyfile(item, os.path.join(model_name, 'meshes', item))"
      ],
      "metadata": {
        "id": "E-bTMI9FHXrD",
        "colab": {
          "base_uri": "https://localhost:8080/"
        },
        "outputId": "14b9e5aa-4c3e-4d50-ec13-ff4eb323e2a7"
      },
      "execution_count": null,
      "outputs": [
        {
          "output_type": "stream",
          "name": "stdout",
          "text": [
            "model.config has been writen successfully.\n",
            "model.sdf has been writen successfully.\n"
          ]
        }
      ]
    },
    {
      "cell_type": "code",
      "source": [
        "#@title Download *config and *sdf {display-mode: \"form\", vertical-output: true }\n",
        "dir_to_zip = model_name\n",
        "output_filename = model_name + '.zip'\n",
        "os.system(\"zip -r {} {}\".format(output_filename, dir_to_zip))\n",
        "files.download(output_filename)"
      ],
      "metadata": {
        "colab": {
          "base_uri": "https://localhost:8080/",
          "height": 17
        },
        "id": "9DLKarvIgs7L",
        "outputId": "eca6eccc-01e1-4091-c1f3-a0bd30e996fe"
      },
      "execution_count": null,
      "outputs": [
        {
          "output_type": "display_data",
          "data": {
            "text/plain": [
              "<IPython.core.display.Javascript object>"
            ],
            "application/javascript": [
              "\n",
              "    async function download(id, filename, size) {\n",
              "      if (!google.colab.kernel.accessAllowed) {\n",
              "        return;\n",
              "      }\n",
              "      const div = document.createElement('div');\n",
              "      const label = document.createElement('label');\n",
              "      label.textContent = `Downloading \"${filename}\": `;\n",
              "      div.appendChild(label);\n",
              "      const progress = document.createElement('progress');\n",
              "      progress.max = size;\n",
              "      div.appendChild(progress);\n",
              "      document.body.appendChild(div);\n",
              "\n",
              "      const buffers = [];\n",
              "      let downloaded = 0;\n",
              "\n",
              "      const channel = await google.colab.kernel.comms.open(id);\n",
              "      // Send a message to notify the kernel that we're ready.\n",
              "      channel.send({})\n",
              "\n",
              "      for await (const message of channel.messages) {\n",
              "        // Send a message to notify the kernel that we're ready.\n",
              "        channel.send({})\n",
              "        if (message.buffers) {\n",
              "          for (const buffer of message.buffers) {\n",
              "            buffers.push(buffer);\n",
              "            downloaded += buffer.byteLength;\n",
              "            progress.value = downloaded;\n",
              "          }\n",
              "        }\n",
              "      }\n",
              "      const blob = new Blob(buffers, {type: 'application/binary'});\n",
              "      const a = document.createElement('a');\n",
              "      a.href = window.URL.createObjectURL(blob);\n",
              "      a.download = filename;\n",
              "      div.appendChild(a);\n",
              "      a.click();\n",
              "      div.remove();\n",
              "    }\n",
              "  "
            ]
          },
          "metadata": {}
        },
        {
          "output_type": "display_data",
          "data": {
            "text/plain": [
              "<IPython.core.display.Javascript object>"
            ],
            "application/javascript": [
              "download(\"download_8a8c63eb-9f37-4d12-8b9b-d81a2633176a\", \"box_green.zip\", 3590)"
            ]
          },
          "metadata": {}
        }
      ]
    },
    {
      "cell_type": "code",
      "source": [
        "#@title Delete *config and *sdf {display-mode: \"form\", vertical-output: true }\n",
        "for file in file_name:\n",
        "  os.system(\"rm {}\".format(file))\n",
        "os.system(\"rm {}\".format('inertia_matrix.xml'))\n",
        "os.system(\"rm -r {}\".format(dir_to_zip))\n",
        "time.sleep(5)\n",
        "os.system(\"rm -r {}\".format(output_filename))"
      ],
      "metadata": {
        "colab": {
          "base_uri": "https://localhost:8080/"
        },
        "id": "tHjTZ4MGraTg",
        "outputId": "12074fb9-dc92-40db-d1c9-63c46c00047d"
      },
      "execution_count": null,
      "outputs": [
        {
          "output_type": "execute_result",
          "data": {
            "text/plain": [
              "0"
            ]
          },
          "metadata": {},
          "execution_count": 62
        }
      ]
    }
  ]
}